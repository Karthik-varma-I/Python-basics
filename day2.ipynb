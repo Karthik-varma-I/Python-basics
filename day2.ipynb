{
  "nbformat": 4,
  "nbformat_minor": 0,
  "metadata": {
    "colab": {
      "provenance": [],
      "include_colab_link": true
    },
    "kernelspec": {
      "name": "python3",
      "display_name": "Python 3"
    },
    "language_info": {
      "name": "python"
    }
  },
  "cells": [
    {
      "cell_type": "markdown",
      "metadata": {
        "id": "view-in-github",
        "colab_type": "text"
      },
      "source": [
        "<a href=\"https://colab.research.google.com/github/Karthik-varma-I/Python-basics/blob/main/day2.ipynb\" target=\"_parent\"><img src=\"https://colab.research.google.com/assets/colab-badge.svg\" alt=\"Open In Colab\"/></a>"
      ]
    },
    {
      "cell_type": "markdown",
      "source": [
        "## 1.Difference between the list and tuple?"
      ],
      "metadata": {
        "id": "HN6tCq60j2mQ"
      }
    },
    {
      "cell_type": "code",
      "source": [
        "#list is a mutable data structure means which the values of its can be changed\n",
        "#tuple is immutable data structure means which the values of its can not be changed\n",
        "l=[1,2,3,4]\n",
        "l.append(5)\n",
        "print(\"list:\",l)\n",
        "l.pop(0)\n",
        "print(l)\n",
        "t=(1,2,3,4)\n",
        "print(\"tuple:\",t)"
      ],
      "metadata": {
        "id": "Cw8ffkhMk6RQ",
        "colab": {
          "base_uri": "https://localhost:8080/"
        },
        "outputId": "b02e3b25-8e31-4e45-e847-f3de9c87a853"
      },
      "execution_count": 1,
      "outputs": [
        {
          "output_type": "stream",
          "name": "stdout",
          "text": [
            "list: [1, 2, 3, 4, 5]\n",
            "[2, 3, 4, 5]\n",
            "tuple: (1, 2, 3, 4)\n"
          ]
        }
      ]
    },
    {
      "cell_type": "markdown",
      "source": [
        "## 2.How list is different from an array"
      ],
      "metadata": {
        "id": "uWhJG7hzk6Ov"
      }
    },
    {
      "cell_type": "code",
      "source": [
        "#list can store heterogeneous data type values\n",
        "#array can only store homogeneous data type values\n",
        "l=[1,2.7,\"abc\",True]\n",
        "print(\"list:\",l)\n",
        "import numpy as np\n",
        "arr=np.array([1,2,3,4,5])\n",
        "print(\"array:\",arr)"
      ],
      "metadata": {
        "id": "MowyCcINo4Mn",
        "colab": {
          "base_uri": "https://localhost:8080/"
        },
        "outputId": "b1e0f749-0cc4-410a-b75d-9c7fe5211d64"
      },
      "execution_count": 2,
      "outputs": [
        {
          "output_type": "stream",
          "name": "stdout",
          "text": [
            "list: [1, 2.7, 'abc', True]\n",
            "array: [1 2 3 4 5]\n"
          ]
        }
      ]
    },
    {
      "cell_type": "markdown",
      "source": [],
      "metadata": {
        "id": "1uPEIFbxmQwt"
      }
    },
    {
      "cell_type": "markdown",
      "source": [
        "## 3. Use the python list append(),copy(), clear, count, extends(), index(), insert(), pop(), reverse(), sort(), min(), max(),and sum()"
      ],
      "metadata": {
        "id": "_0Rn7JQSk6M1"
      }
    },
    {
      "cell_type": "code",
      "source": [
        "l=[1,2,2,3,4]\n",
        "l.append(10)\n",
        "print(\"append:\",l)\n",
        "l2=l.copy()\n",
        "print(\"copy:\",l2)\n",
        "l2.clear()\n",
        "print(\"clear:\",l2)\n",
        "print(\"count:\",l.count(2))\n",
        "l3=['a','b','c']\n",
        "l.extend(l3)\n",
        "print(\"extend:\",l)\n",
        "print(\"index of a:\",l.index('a'))\n",
        "l.insert(3,True)\n",
        "print(\"insert:\",l)\n",
        "print(\"pop:\",l.pop())\n",
        "l.reverse()\n",
        "print(\"reverse:\",l)\n",
        "l4=[4,2,9,5,6,1]\n",
        "l4.sort()\n",
        "print(\"sort:\",l4)\n",
        "print(\"min:\",min(l4))\n",
        "print(\"max:\",max(l4))\n",
        "print(\"sum:\",sum(l4))"
      ],
      "metadata": {
        "colab": {
          "base_uri": "https://localhost:8080/"
        },
        "id": "9LEPDwdUADfi",
        "outputId": "9b284150-319f-4c1f-d32d-7239653239d6"
      },
      "execution_count": 5,
      "outputs": [
        {
          "output_type": "stream",
          "name": "stdout",
          "text": [
            "append: [1, 2, 2, 3, 4, 10]\n",
            "copy: [1, 2, 2, 3, 4, 10]\n",
            "clear: []\n",
            "count: 2\n",
            "extend: [1, 2, 2, 3, 4, 10, 'a', 'b', 'c']\n",
            "index of a: 6\n",
            "insert: [1, 2, 2, True, 3, 4, 10, 'a', 'b', 'c']\n",
            "pop: c\n",
            "reverse: ['b', 'a', 10, 4, 3, True, 2, 2, 1]\n",
            "sort: [1, 2, 4, 5, 6, 9]\n",
            "min: 1\n",
            "max: 9\n",
            "sum: 27\n"
          ]
        }
      ]
    },
    {
      "cell_type": "markdown",
      "source": [
        "## 4, How would you divide the list into two parts?"
      ],
      "metadata": {
        "id": "W9xfjUWak6J_"
      }
    },
    {
      "cell_type": "code",
      "source": [
        "l=[1,2,3,'a','b','c']\n",
        "first_l=l[:len(l)//2]\n",
        "second_l=l[len(l)//2:]\n",
        "print(\"First half:\",first_l,\"\\nsecond half:\",second_l)"
      ],
      "metadata": {
        "colab": {
          "base_uri": "https://localhost:8080/"
        },
        "id": "6eI35l3GCgkL",
        "outputId": "38b5f86e-363f-4cc1-f169-bd19468c1263"
      },
      "execution_count": 11,
      "outputs": [
        {
          "output_type": "stream",
          "name": "stdout",
          "text": [
            "First half: [1, 2, 3] \n",
            "second half: ['a', 'b', 'c']\n"
          ]
        }
      ]
    },
    {
      "cell_type": "markdown",
      "source": [
        "## 5. how to filter the multiple of 3 from a given list and them remove the odd number from the new filtered list.\n",
        "Eg A = [1,2,3,4,5,6,7,8,9,21,23,24]\n",
        "Filter_lsit = [3,6,9,21,24]\n",
        "output_list = [6,24]"
      ],
      "metadata": {
        "id": "Qb1mVGfnk6G5"
      }
    },
    {
      "cell_type": "code",
      "source": [
        "l=[1,2,3,4,6,9,11,12,14,15]\n",
        "filter_l=[i for i in l if i%3==0]\n",
        "print(\"Fileter list:\",filter_l)\n",
        "output_l=[i for i in filter_l if i%2==0]\n",
        "print(\"output list:\",output_l)"
      ],
      "metadata": {
        "colab": {
          "base_uri": "https://localhost:8080/"
        },
        "id": "rKeY-o_HEPOv",
        "outputId": "957f49ae-d938-4e49-d77d-a4465cc66202"
      },
      "execution_count": 13,
      "outputs": [
        {
          "output_type": "stream",
          "name": "stdout",
          "text": [
            "Fileter list: [3, 6, 9, 12, 15]\n",
            "output list: [6, 12]\n"
          ]
        }
      ]
    },
    {
      "cell_type": "markdown",
      "source": [
        "## 6. How you can access keys and values simultaneously and update its value"
      ],
      "metadata": {
        "id": "auhYyjixk6FD"
      }
    },
    {
      "cell_type": "code",
      "source": [
        "d={'a':1,'b':2,'c':3}\n",
        "for key,value in d.items():\n",
        "  print(key,\":\",value)\n",
        "  d[key]=value*10\n",
        "  print(\"updated value:\",key,\":\",value)"
      ],
      "metadata": {
        "colab": {
          "base_uri": "https://localhost:8080/"
        },
        "id": "JOKPQfHaFY4X",
        "outputId": "1043054a-226a-4bc2-ac5d-41fa2a072d65"
      },
      "execution_count": 16,
      "outputs": [
        {
          "output_type": "stream",
          "name": "stdout",
          "text": [
            "a : 1\n",
            "updated value: a : 1\n",
            "b : 2\n",
            "updated value: b : 2\n",
            "c : 3\n",
            "updated value: c : 3\n"
          ]
        }
      ]
    },
    {
      "cell_type": "markdown",
      "source": [
        "## 7. Write python program to join, merge, concatente the two dictionaries..\n"
      ],
      "metadata": {
        "id": "vV00n0awk5_G"
      }
    },
    {
      "cell_type": "code",
      "source": [
        "dic1={'a':1,'b':2}\n",
        "dic2={'c':3,'d':4}\n",
        "dic1.update(dic2)\n",
        "print(dic1)"
      ],
      "metadata": {
        "colab": {
          "base_uri": "https://localhost:8080/"
        },
        "id": "0uUw7RkoGPn3",
        "outputId": "8fca3a63-a76f-4df9-ac3d-7930dda6f7d3"
      },
      "execution_count": 17,
      "outputs": [
        {
          "output_type": "stream",
          "name": "stdout",
          "text": [
            "{'a': 1, 'b': 2, 'c': 3, 'd': 4}\n"
          ]
        }
      ]
    },
    {
      "cell_type": "markdown",
      "source": [
        "## 8. How would you check a specific keys from the dictionary??\n"
      ],
      "metadata": {
        "id": "Z_7dpypWnQ-z"
      }
    },
    {
      "cell_type": "code",
      "source": [
        "dic1={'a':1,'b':2,'c':3}\n",
        "def check(key):\n",
        "  if key in dic1.keys():\n",
        "    print(\"yes\")\n",
        "  else:\n",
        "    print(\"no\")\n",
        "check('a')\n",
        "check(1)"
      ],
      "metadata": {
        "colab": {
          "base_uri": "https://localhost:8080/"
        },
        "id": "ZqbDRuVVHQEc",
        "outputId": "d0302599-a848-43bc-fe90-13336bca6beb"
      },
      "execution_count": 18,
      "outputs": [
        {
          "output_type": "stream",
          "name": "stdout",
          "text": [
            "yes\n",
            "no\n"
          ]
        }
      ]
    },
    {
      "cell_type": "markdown",
      "source": [
        "## 9. write a python program to find the unique vowel present in the sentence"
      ],
      "metadata": {
        "id": "EjxeB4ntnirH"
      }
    },
    {
      "cell_type": "code",
      "source": [
        "a=\"hello world\"\n",
        "vow='aeiou'\n",
        "d1={}\n",
        "for i in a:\n",
        "  if i in vow:\n",
        "    if i in d1.keys():\n",
        "      d1[i]+=1\n",
        "    else:\n",
        "      d1[i]=1\n",
        "for i in d1.keys():\n",
        "  if d1[i]==1:\n",
        "    print(i)"
      ],
      "metadata": {
        "colab": {
          "base_uri": "https://localhost:8080/"
        },
        "id": "KotB1PUWH3Gl",
        "outputId": "37614d89-2ed6-464d-f435-01d0839d7586"
      },
      "execution_count": 24,
      "outputs": [
        {
          "output_type": "stream",
          "name": "stdout",
          "text": [
            "e\n"
          ]
        }
      ]
    },
    {
      "cell_type": "markdown",
      "source": [
        "## 10. We know that tuple is immutable, do any thing and add element to the tuples."
      ],
      "metadata": {
        "id": "B1VBImcfns6V"
      }
    },
    {
      "cell_type": "code",
      "source": [
        "t1=(1,2,3,4)\n",
        "t1+=(5,6,7)\n",
        "print(\"tuple with added elements:\",t1)"
      ],
      "metadata": {
        "colab": {
          "base_uri": "https://localhost:8080/"
        },
        "id": "XRASJc5fJ7VN",
        "outputId": "bdf0bfa6-4fbc-4f75-c02c-11d22166d72b"
      },
      "execution_count": 26,
      "outputs": [
        {
          "output_type": "stream",
          "name": "stdout",
          "text": [
            "tuple with added elements: (1, 2, 3, 4, 5, 6, 7)\n"
          ]
        }
      ]
    },
    {
      "cell_type": "markdown",
      "source": [
        "## 11. How would you sum the list of tuple and sum of tuple of list\n",
        "list  = [(2,3),(4,5),(6,4)]\n",
        "output= [5,9,10]\n",
        "\n",
        "tuple  =([2,3],[4,5],[6,4])\n",
        "output  =  (5,9,10)"
      ],
      "metadata": {
        "id": "Yd7tDQHuoGFm"
      }
    },
    {
      "cell_type": "code",
      "source": [
        "l1=[(1,2,3),(3,4),(5,3,8)]\n",
        "out=[]\n",
        "for i in l1:\n",
        "  sum=0\n",
        "  for j in i:\n",
        "    sum+=j\n",
        "  out.append(sum)\n",
        "print(\"output of list of tuples:\",out)\n",
        "out.clear()\n",
        "t1=([1,2,3],[8,2],[4,7,0])\n",
        "for i in t1:\n",
        "  sum=0\n",
        "  for j in i:\n",
        "    sum+=j\n",
        "  out.append(sum)\n",
        "print(\"output of tuple of lists:\",out)"
      ],
      "metadata": {
        "colab": {
          "base_uri": "https://localhost:8080/"
        },
        "id": "EebdbKSXLQZW",
        "outputId": "eb66006f-2486-4eec-8a10-670fada827d3"
      },
      "execution_count": 27,
      "outputs": [
        {
          "output_type": "stream",
          "name": "stdout",
          "text": [
            "output of list of tuples: [6, 7, 16]\n",
            "output of tuple of lists: [6, 10, 11]\n"
          ]
        }
      ]
    },
    {
      "cell_type": "markdown",
      "source": [
        "## 12. FIND THE FREQUENCY OF THE KEYS IN THE GIVEN DICTIONARY"
      ],
      "metadata": {
        "id": "YiXg_vDpoq7X"
      }
    },
    {
      "cell_type": "code",
      "source": [
        "d1={'a':2,'b':3,'c':2,'d':3,'e':2,'f':1}\n",
        "l=list(d1.values())\n",
        "d2={}\n",
        "for i in l:\n",
        "  if i in d2.keys():\n",
        "    d2[i]+=1\n",
        "  else:\n",
        "    d2[i]=1\n",
        "print(d2)"
      ],
      "metadata": {
        "colab": {
          "base_uri": "https://localhost:8080/"
        },
        "id": "feNiC3VLMH9_",
        "outputId": "227b5e5f-5cff-49bc-cc4c-5ba77f6b4157"
      },
      "execution_count": 28,
      "outputs": [
        {
          "output_type": "stream",
          "name": "stdout",
          "text": [
            "{2: 3, 3: 2, 1: 1}\n"
          ]
        }
      ]
    }
  ]
}