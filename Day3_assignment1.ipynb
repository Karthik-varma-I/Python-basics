{
  "nbformat": 4,
  "nbformat_minor": 0,
  "metadata": {
    "colab": {
      "provenance": [],
      "include_colab_link": true
    },
    "kernelspec": {
      "name": "python3",
      "display_name": "Python 3"
    },
    "language_info": {
      "name": "python"
    }
  },
  "cells": [
    {
      "cell_type": "markdown",
      "metadata": {
        "id": "view-in-github",
        "colab_type": "text"
      },
      "source": [
        "<a href=\"https://colab.research.google.com/github/Karthik-varma-I/Python-basics/blob/main/Day3_assignment1.ipynb\" target=\"_parent\"><img src=\"https://colab.research.google.com/assets/colab-badge.svg\" alt=\"Open In Colab\"/></a>"
      ]
    },
    {
      "cell_type": "markdown",
      "source": [],
      "metadata": {
        "id": "KZ91_NegViLz"
      }
    },
    {
      "cell_type": "markdown",
      "source": [
        "## problem 1\n",
        "Create a dictionary where the keys correspond to the area of a flat adn value for each is the price of the house for 10 flat in kompally"
      ],
      "metadata": {
        "id": "B1Fhdmi9V3LI"
      }
    },
    {
      "cell_type": "code",
      "source": [
        "# Dictionary of house area and house prices of 10 houses in\n",
        "flat_list=['flat1','flat2','flat3','flat4','flat5','flat6','flat7','flat8','flat9','flat10']\n",
        "area_val=[10000,2000,12500,9500,20000,15000,5000,8500,12000,18000]\n",
        "area_price = {k:v for k,v in zip(flat_list,area_val)}\n",
        "for key,value in area_price.items():\n",
        "  print(\"Area of\",key,\"is\",area_price[key])"
      ],
      "metadata": {
        "id": "zihWmw3NWXQX",
        "colab": {
          "base_uri": "https://localhost:8080/"
        },
        "outputId": "ab591783-c625-4e06-a3b2-4e35a7efd76f"
      },
      "execution_count": 2,
      "outputs": [
        {
          "output_type": "stream",
          "name": "stdout",
          "text": [
            "Area of flat1 is 10000\n",
            "Area of flat2 is 2000\n",
            "Area of flat3 is 12500\n",
            "Area of flat4 is 9500\n",
            "Area of flat5 is 20000\n",
            "Area of flat6 is 15000\n",
            "Area of flat7 is 5000\n",
            "Area of flat8 is 8500\n",
            "Area of flat9 is 12000\n",
            "Area of flat10 is 18000\n"
          ]
        }
      ]
    },
    {
      "cell_type": "markdown",
      "source": [
        "### Now broker predicts the price as can be written as : <b><code>predicted_price(area) = 0.06*area + 15</code></b>"
      ],
      "metadata": {
        "id": "JI2jaDf8Wp2D"
      }
    },
    {
      "cell_type": "markdown",
      "source": [
        "Using the concept of list comprehension,create a list of predicted flat price using the above formula\n"
      ],
      "metadata": {
        "id": "v_K_Z8dtW6-D"
      }
    },
    {
      "cell_type": "code",
      "source": [
        "# Create a list of house areas\n",
        "house_price=[10000,2000,12500,9500,20000,15000,5000,8500]\n",
        "# Use list comprehension to store the predicted house prices in a list\n",
        "house_predict=[(0.06*area+15) for area in house_price]\n",
        "# Print the list of predicted flat prices\n",
        "for i in range(len(house_predict)):\n",
        "  print(\"flat\"+str(i),\":\",house_predict[i])"
      ],
      "metadata": {
        "id": "F732P6DHXVYH",
        "colab": {
          "base_uri": "https://localhost:8080/"
        },
        "outputId": "adf0f7b5-5420-46ee-ed52-fdfbca13c54c"
      },
      "execution_count": 7,
      "outputs": [
        {
          "output_type": "stream",
          "name": "stdout",
          "text": [
            "flat0 : 615.0\n",
            "flat1 : 135.0\n",
            "flat2 : 765.0\n",
            "flat3 : 585.0\n",
            "flat4 : 1215.0\n",
            "flat5 : 915.0\n",
            "flat6 : 315.0\n",
            "flat7 : 525.0\n"
          ]
        }
      ]
    },
    {
      "cell_type": "markdown",
      "source": [
        "## Create another list which contains the squares of differences of each element of the two price lists : the actual prices and the predicted prices\n"
      ],
      "metadata": {
        "id": "-ZrRO78DXZq6"
      }
    },
    {
      "cell_type": "code",
      "source": [
        "l1=[20,30,32,87,12,46,90,19]\n",
        "l2=[65,13,45,23,43,11,25,45]\n",
        "l3=[i**2-j**2 for i,j in zip(l1,l2)]\n",
        "print(l3)"
      ],
      "metadata": {
        "id": "dEpxZqK7XzeD",
        "colab": {
          "base_uri": "https://localhost:8080/"
        },
        "outputId": "95927398-afbb-4958-e944-0f0e9e95098c"
      },
      "execution_count": 8,
      "outputs": [
        {
          "output_type": "stream",
          "name": "stdout",
          "text": [
            "[-3825, 731, -1001, 7040, -1705, 1995, 7475, -1664]\n"
          ]
        }
      ]
    },
    {
      "cell_type": "markdown",
      "source": [
        "## <u> Problem 2</u>\n",
        "\n",
        "## A sigmoid function is a mathematical function having a characteristic \"S\"-shaped curve or sigmoid curve. A common example of a sigmoid function is the logistic function shown in the first figure and defined by the formula:\n",
        "\n",
        "$$ h(x) =  \\frac{\\mathrm{1} }{\\mathrm{1} + e^{-x} }  $$\n",
        "\n",
        "\n",
        "## Range is defined as all the possible values which the function $h(x)$ can take. Domain is defined as all the possible values which $x$ can take. In this case, range of the function is between 0 to 1 and the domain of the function is all real numbers"
      ],
      "metadata": {
        "id": "PEC_OtXRXrCg"
      }
    },
    {
      "cell_type": "markdown",
      "source": [
        "### You are given a list of values of $x$. You need to use list comprehension to calculate the corresponding transformation according to the sigmoid function defined above"
      ],
      "metadata": {
        "id": "YZCTres_XsB0"
      }
    },
    {
      "cell_type": "code",
      "source": [
        "# Return a list of boolean values if the sigmoid_of_x is greater than or equal to 0 and less than or equal to 1\n",
        "import math\n",
        "l1=[65,13,45,23,43,11,25,45]\n",
        "tranform_list=[1/(1+math.exp(-x)) for x in l1]\n",
        "print(l1)\n",
        "# Create a list of those values which are greater than 0.5"
      ],
      "metadata": {
        "id": "TmYb4SluYC4S",
        "colab": {
          "base_uri": "https://localhost:8080/"
        },
        "outputId": "317be1eb-309a-4bac-d259-276e24df6f46"
      },
      "execution_count": 12,
      "outputs": [
        {
          "output_type": "stream",
          "name": "stdout",
          "text": [
            "[65, 13, 45, 23, 43, 11, 25, 45]\n"
          ]
        }
      ]
    },
    {
      "cell_type": "markdown",
      "source": [
        "# <u> Problem 3</u>\n",
        "\n",
        "## You are given a sentence : <code>\"I have been walking and running and dancing and smiling and laughing all my life, yet it all seems pointless. So i stoped thinking and started doing\"</code>\n",
        "\n",
        "## You are required to extract all those words from this sentence in a list which ends with <code>ing</code>"
      ],
      "metadata": {
        "id": "j31JnVUtYNU-"
      }
    },
    {
      "cell_type": "code",
      "source": [
        "# Your sentence\n",
        "my_sentence = \"I have been walking and running and dancing and smiling and laughing all my life, yet it all seems pointless. So i stoped thinking and started doing\"\n",
        "list_sent=[i for i in my_sentence.split() if 'ing' in i ]\n",
        "print(list_sent)"
      ],
      "metadata": {
        "id": "8s6rFnH2YO1z",
        "colab": {
          "base_uri": "https://localhost:8080/"
        },
        "outputId": "dd44e930-bb42-433a-ab47-75c39746b6c5"
      },
      "execution_count": 14,
      "outputs": [
        {
          "output_type": "stream",
          "name": "stdout",
          "text": [
            "['walking', 'running', 'dancing', 'smiling', 'laughing', 'thinking', 'doing']\n"
          ]
        }
      ]
    },
    {
      "cell_type": "markdown",
      "source": [
        "# <u> Problem 4</u>\n",
        "\n",
        "#### Natural Language Processing or NLP is one of the most promising fields in Machine Learning. Most of the times in NLP we deal with the textual data (a bunch of strings). Sometimes when we are processing the text, it is a common practice to get rid of some set of stop words from our original text. By default stop words are very common words used in English language such as and, or, punctuations etc.\n",
        "\n",
        "#### In this exercise, you are provided with a default set of stop words and you need to add some extra set of custom words and remove these words from the given sentence and obtain the sentence without the stop words"
      ],
      "metadata": {
        "id": "rYwInhGlYOyz"
      }
    },
    {
      "cell_type": "code",
      "source": [
        "# A sample sentence\n",
        "sentence=\"Natural Language Processing or NLP is one of the most promising fields in Machine Learning. Most of the times in NLP we deal with the textual data (a bunch of strings). Sometimes when we are processing the text, it is a common practice to get rid of some set of stop words from our original text. By default stop words are very common words used in English language such as and, or, punctuations etc.\"\n",
        "# Print your sentence\n",
        "print(sentence)"
      ],
      "metadata": {
        "id": "b86yHqHEYOpp",
        "colab": {
          "base_uri": "https://localhost:8080/"
        },
        "outputId": "caa3f34f-951a-444a-d451-9ce16654b01a"
      },
      "execution_count": 15,
      "outputs": [
        {
          "output_type": "stream",
          "name": "stdout",
          "text": [
            "Natural Language Processing or NLP is one of the most promising fields in Machine Learning. Most of the times in NLP we deal with the textual data (a bunch of strings). Sometimes when we are processing the text, it is a common practice to get rid of some set of stop words from our original text. By default stop words are very common words used in English language such as and, or, punctuations etc.\n"
          ]
        }
      ]
    },
    {
      "cell_type": "code",
      "source": [
        "# Default set of stop words\n",
        "stop_words = {\"i\", \"me\", \"my\", \"myself\", \"we\", \"our\", \"ours\", \"ourselves\", \"you\", \"your\", \"yours\", \"yourself\",\n",
        "              \"yourselves\", \"he\", \"him\", \"his\", \"himself\", \"she\", \"her\", \"hers\", \"herself\", \"it\", \"its\", \"itself\",\n",
        "              \"they\", \"them\", \"their\", \"theirs\", \"themselves\", \"what\", \"which\", \"who\", \"whom\", \"this\", \"that\",\n",
        "              \"these\", \"those\", \"am\", \"is\", \"are\", \"was\", \"were\", \"be\", \"been\", \"being\", \"have\", \"has\", \"had\",\n",
        "              \"having\", \"do\", \"does\", \"did\", \"doing\", \"a\", \"an\", \"the\", \"and\", \"but\", \"if\", \"or\", \"because\",\n",
        "              \"as\", \"until\", \"while\", \"of\", \"at\", \"by\", \"for\", \"with\", \"about\", \"against\", \"between\", \"into\",\n",
        "              \"through\", \"during\", \"before\", \"after\", \"above\", \"below\", \"to\", \"from\", \"up\", \"down\", \"in\", \"out\",\n",
        "              \"on\", \"off\", \"over\", \"under\", \"again\", \"further\", \"then\", \"once\", \"here\", \"there\", \"when\", \"where\",\n",
        "              \"why\", \"how\", \"all\", \"any\", \"both\", \"each\", \"few\", \"more\", \"most\", \"other\", \"some\", \"such\", \"no\",\n",
        "              \"nor\", \"not\", \"only\", \"own\", \"same\", \"so\", \"than\", \"too\", \"very\", \"s\", \"t\", \"can\", \"will\", \"just\",\n",
        "              \"don\", \"should\", \"now\"}"
      ],
      "metadata": {
        "id": "RbyJscXWYh0z"
      },
      "execution_count": 17,
      "outputs": []
    },
    {
      "cell_type": "code",
      "source": [
        "\n",
        "custom_stop_words = {\"hello\",\"folks\",\"good\",\"morning\",\"half\",\"year\"}\n",
        "# Update the set of stop words by adding the custom stop words\n",
        "stop_words=stop_words|custom_stop_words\n",
        "print(stop_words)"
      ],
      "metadata": {
        "id": "JCZ3mWDEYplT",
        "colab": {
          "base_uri": "https://localhost:8080/"
        },
        "outputId": "23f2d5e6-aa7a-429b-d1f9-8c79fa9bb463"
      },
      "execution_count": 20,
      "outputs": [
        {
          "output_type": "stream",
          "name": "stdout",
          "text": [
            "{'s', 'yours', 'theirs', 'no', 'this', 'few', 'above', 'into', 'during', 'ourselves', 'who', 'those', 'not', 'than', 'too', 'how', 'is', 'the', 'with', 'these', 'same', 'and', 'but', 'before', 'an', 'her', 'of', 'my', 'does', 'can', 'to', 'such', 'once', 'are', 'i', 'him', 'folks', 'or', 'on', 'nor', 'yourself', 'we', 'both', 'from', 'itself', 'morning', 'further', 'your', 'only', 'own', 'again', 'their', 'should', 'they', 'then', 'herself', 'more', 'because', 'under', 'through', 'about', 'will', 'have', 'out', 'for', 'half', 'against', 'it', 'had', 'very', 'that', 'she', 'our', 'where', 'down', 'be', 'been', 'good', 'there', 'were', 'so', 'after', 'each', 'here', 't', 'until', 'its', 'do', 'hello', 'all', 'being', 'most', 'a', 'has', 'you', 'doing', 'am', 'year', 'up', 'between', 'some', 'myself', 'don', 'at', 'himself', 'why', 'whom', 'if', 'did', 'them', 'in', 'other', 'me', 'by', 'was', 'as', 'what', 'any', 'his', 'below', 'off', 'yourselves', 'which', 'now', 'themselves', 'hers', 'over', 'when', 'ours', 'having', 'while', 'just', 'he'}\n"
          ]
        }
      ]
    },
    {
      "cell_type": "code",
      "source": [
        "# Create the list of words in the given sentence.\n",
        "l=sentence.split()"
      ],
      "metadata": {
        "id": "OG_iCUm9Yyx3"
      },
      "execution_count": 21,
      "outputs": []
    },
    {
      "cell_type": "code",
      "source": [
        "# Use list comprehension to remove the set of updated stop words from the list of words\n",
        "updated_list=[i for i in l if i not in stop_words]\n",
        "print(updated_list)"
      ],
      "metadata": {
        "id": "Kk665UtXY3UH",
        "colab": {
          "base_uri": "https://localhost:8080/"
        },
        "outputId": "427c97fc-6313-46db-e760-ffdb9aa29094"
      },
      "execution_count": 24,
      "outputs": [
        {
          "output_type": "stream",
          "name": "stdout",
          "text": [
            "['Natural', 'Language', 'Processing', 'NLP', 'one', 'promising', 'fields', 'Machine', 'Learning.', 'Most', 'times', 'NLP', 'deal', 'textual', 'data', '(a', 'bunch', 'strings).', 'Sometimes', 'processing', 'text,', 'common', 'practice', 'get', 'rid', 'set', 'stop', 'words', 'original', 'text.', 'By', 'default', 'stop', 'words', 'common', 'words', 'used', 'English', 'language', 'and,', 'or,', 'punctuations', 'etc.']\n"
          ]
        }
      ]
    },
    {
      "cell_type": "code",
      "source": [
        "# Finally using the join() method, get the sentence without the stop words. Keep in mind that every word in the sentence will be separated by space\n",
        "output=\" \".join(updated_list)\n",
        "# Print the modified sentence\n",
        "print(output)"
      ],
      "metadata": {
        "id": "RzO-jDZVY6wD",
        "colab": {
          "base_uri": "https://localhost:8080/"
        },
        "outputId": "230ab097-702b-412d-db12-a91e921b5a8c"
      },
      "execution_count": 23,
      "outputs": [
        {
          "output_type": "stream",
          "name": "stdout",
          "text": [
            "Natural Language Processing NLP one promising fields Machine Learning. Most times NLP deal textual data (a bunch strings). Sometimes processing text, common practice get rid set stop words original text. By default stop words common words used English language and, or, punctuations etc.\n"
          ]
        }
      ]
    },
    {
      "cell_type": "code",
      "source": [],
      "metadata": {
        "id": "0BH1HJflZ--V"
      },
      "execution_count": null,
      "outputs": []
    }
  ]
}