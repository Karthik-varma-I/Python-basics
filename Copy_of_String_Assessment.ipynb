{
  "nbformat": 4,
  "nbformat_minor": 0,
  "metadata": {
    "colab": {
      "provenance": [],
      "include_colab_link": true
    },
    "kernelspec": {
      "name": "python3",
      "display_name": "Python 3"
    },
    "language_info": {
      "name": "python"
    }
  },
  "cells": [
    {
      "cell_type": "markdown",
      "metadata": {
        "id": "view-in-github",
        "colab_type": "text"
      },
      "source": [
        "<a href=\"https://colab.research.google.com/github/Karthik-varma-I/Python-basics/blob/main/Copy_of_String_Assessment.ipynb\" target=\"_parent\"><img src=\"https://colab.research.google.com/assets/colab-badge.svg\" alt=\"Open In Colab\"/></a>"
      ]
    },
    {
      "cell_type": "markdown",
      "source": [
        "## how would you confimm that two strings have the same identity?"
      ],
      "metadata": {
        "id": "eh5Ph74_HqpD"
      }
    },
    {
      "cell_type": "code",
      "source": [
        "# using is identity operator\n",
        "def identity (str1, str2):\n",
        "    if str1 is str2:\n",
        "        print(\"similar\")\n",
        "    else:\n",
        "        print(\"not similar\")\n",
        "identity (\"abc\",\"abc\")\n",
        "identity (\"hello\",\"Hello\")"
      ],
      "metadata": {
        "id": "oERbt__VktUg",
        "colab": {
          "base_uri": "https://localhost:8080/"
        },
        "outputId": "8f01089f-0d8d-494d-e4f9-fa54910cac32"
      },
      "execution_count": 2,
      "outputs": [
        {
          "output_type": "stream",
          "name": "stdout",
          "text": [
            "similar\n",
            "not similar\n"
          ]
        }
      ]
    },
    {
      "cell_type": "markdown",
      "source": [
        "## How to find the length and index of the string?"
      ],
      "metadata": {
        "id": "duytPz1XIvDx"
      }
    },
    {
      "cell_type": "code",
      "source": [
        "\n",
        "#using len() built in function\n",
        "str1=\"hello world\"\n",
        "print(\"length :\",len(str1))\n",
        "#using find() built in function of string\n",
        "str2=\"rld\"\n",
        "print(\"index :\",str1.find(str2))\n",
        "#using index() build in function of string\n",
        "print(\"index :\",str1.find(str2))"
      ],
      "metadata": {
        "id": "cuEJ9hZ_S4df",
        "colab": {
          "base_uri": "https://localhost:8080/"
        },
        "outputId": "29493ee0-b9ca-464f-92be-067623ba5cb8"
      },
      "execution_count": 5,
      "outputs": [
        {
          "output_type": "stream",
          "name": "stdout",
          "text": [
            "length : 11\n",
            "index : 8\n",
            "index : 8\n"
          ]
        }
      ]
    },
    {
      "cell_type": "markdown",
      "source": [
        "## how to check a string contain a specific substring"
      ],
      "metadata": {
        "id": "EGK-LzalIO_i"
      }
    },
    {
      "cell_type": "code",
      "source": [
        "\n",
        "#using 'in' membership operator\n",
        "def membership (str1, str2):\n",
        "    if str2 in str1:\n",
        "        print(\"yes\")\n",
        "    else:\n",
        "        print(\"no\")\n",
        "str1=\"hello world\"\n",
        "str2=\"o wo\"\n",
        "str3=\"lla\"\n",
        "membership (str1, str2)\n",
        "membership (str1, str3)"
      ],
      "metadata": {
        "id": "g1HYIC9gJ7Vi",
        "colab": {
          "base_uri": "https://localhost:8080/"
        },
        "outputId": "438c53d1-063d-44e5-d5c1-af2c8960ea80"
      },
      "execution_count": 6,
      "outputs": [
        {
          "output_type": "stream",
          "name": "stdout",
          "text": [
            "yes\n",
            "no\n"
          ]
        }
      ]
    },
    {
      "cell_type": "markdown",
      "source": [
        "## how to a take a string from backward with two step difference?\n"
      ],
      "metadata": {
        "id": "LmY6RXjoJF9h"
      }
    },
    {
      "cell_type": "code",
      "source": [
        "\n",
        "#using slicing\n",
        "str1=\"hello world\"\n",
        "backward_with_diff2=str1[: :-2]\n",
        "print(backward_with_diff2)"
      ],
      "metadata": {
        "id": "_C_pqVqBJ8AA",
        "colab": {
          "base_uri": "https://localhost:8080/"
        },
        "outputId": "8d3a18f2-f963-4e55-990a-df26640d8cf2"
      },
      "execution_count": 7,
      "outputs": [
        {
          "output_type": "stream",
          "name": "stdout",
          "text": [
            "drwolh\n"
          ]
        }
      ]
    },
    {
      "cell_type": "markdown",
      "source": [
        "## how to find the index of the last element"
      ],
      "metadata": {
        "id": "7eg6JfyuJr_2"
      }
    },
    {
      "cell_type": "code",
      "source": [
        "\n",
        "#using len() built in function\n",
        "str1=\"0123456789\"\n",
        "print(\"last element:\",str1[len(str1)-1])"
      ],
      "metadata": {
        "id": "T84ODp77J8zR",
        "colab": {
          "base_uri": "https://localhost:8080/"
        },
        "outputId": "b6ee42ed-bf43-4bf0-9c4e-9c02f915d03d"
      },
      "execution_count": 8,
      "outputs": [
        {
          "output_type": "stream",
          "name": "stdout",
          "text": [
            "last element: 9\n"
          ]
        }
      ]
    },
    {
      "cell_type": "markdown",
      "source": [
        "## Write 2 ways to concatinate the string"
      ],
      "metadata": {
        "id": "FTdxvLc1J0lv"
      }
    },
    {
      "cell_type": "code",
      "source": [
        "\n",
        "#using arithmetic '+' operator\n",
        "str1=\"hello\"\n",
        "str2=\"world\"\n",
        "concated=str1+\" \"+str2\n",
        "print (\"concated :\",concated)\n",
        "#using assignment '+=' operator\n",
        "str1+=\" \"\n",
        "str1+=str2\n",
        "print(\"concated :\",str1)"
      ],
      "metadata": {
        "id": "j8P9ODeTJ9Zz",
        "colab": {
          "base_uri": "https://localhost:8080/"
        },
        "outputId": "322dc67c-d68a-454d-eb82-801aa823f9b9"
      },
      "execution_count": 9,
      "outputs": [
        {
          "output_type": "stream",
          "name": "stdout",
          "text": [
            "concated : hello world\n",
            "concated : hello world\n"
          ]
        }
      ]
    }
  ]
}